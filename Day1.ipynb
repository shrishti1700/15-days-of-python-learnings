{
 "cells": [
  {
   "cell_type": "markdown",
   "id": "d62c1dcd-f1ef-4108-b683-86dc763d51f0",
   "metadata": {},
   "source": [
    "#Day-1 \n",
    "\n"
   ]
  },
  {
   "cell_type": "markdown",
   "id": "3e55598c-d1cf-437b-b1c0-23486c0742ef",
   "metadata": {},
   "source": [
    "#Topic - Python syntax, variables, data types, and basic operations\n"
   ]
  },
  {
   "cell_type": "markdown",
   "id": "e5a37e7e-5863-45ac-b701-3dbdfc312d7c",
   "metadata": {},
   "source": [
    "#To do- Practise 10 codes for above topic"
   ]
  },
  {
   "cell_type": "code",
   "execution_count": 2,
   "id": "e17ff6db-b817-491b-b8bd-ea19719e4e8c",
   "metadata": {},
   "outputs": [
    {
     "name": "stdout",
     "output_type": "stream",
     "text": [
      "Day 1, Let's do great and practise consistently!\n"
     ]
    }
   ],
   "source": [
    "#syntax - structure or rules of a programming language\n",
    "print(\"Day 1, Let's do great and practise consistently!\")\n"
   ]
  },
  {
   "cell_type": "code",
   "execution_count": 3,
   "id": "b40e9d6b-f08c-48f3-9707-0b3eda09a61f",
   "metadata": {},
   "outputs": [
    {
     "name": "stdout",
     "output_type": "stream",
     "text": [
      "17\n",
      "Birthdate\n"
     ]
    }
   ],
   "source": [
    "#Variables - to store data in a program.It can be in form numbers, strings, or other objects\n",
    "x = 17\n",
    "y = \"Birthdate\"\n",
    "print(x)\n",
    "print(y)\n"
   ]
  },
  {
   "cell_type": "code",
   "execution_count": 4,
   "id": "3051a9fd-e44e-432e-a586-0d162f3c8b04",
   "metadata": {},
   "outputs": [
    {
     "name": "stdout",
     "output_type": "stream",
     "text": [
      "<class 'int'>\n",
      "<class 'float'>\n",
      "<class 'str'>\n"
     ]
    }
   ],
   "source": [
    "#Data Types - the kind of values that variables can hold.\n",
    "x = 5      # integer\n",
    "y = 3.14   # float\n",
    "z = \"coding\"  # string\n",
    "print(type(x))\n",
    "print(type(y))\n",
    "print(type(z))\n"
   ]
  },
  {
   "cell_type": "code",
   "execution_count": 5,
   "id": "3a940125-329a-46b5-a070-c126232c91ec",
   "metadata": {},
   "outputs": [
    {
     "name": "stdout",
     "output_type": "stream",
     "text": [
      "Addition: 13\n",
      "Subtraction: 7\n",
      "Multiplication: 30\n",
      "Division: 3.3333333333333335\n",
      "Floor Division: 3\n",
      "Modulus: 1\n",
      "Exponentiation: 1000\n"
     ]
    }
   ],
   "source": [
    "#Basic Arithmetic Operations - similarly to arithmetic in mathematics\n",
    "a = 10\n",
    "b = 3\n",
    "print(\"Addition:\", a + b)\n",
    "print(\"Subtraction:\", a - b)\n",
    "print(\"Multiplication:\", a * b)\n",
    "print(\"Division:\", a / b)\n",
    "print(\"Floor Division:\", a // b)\n",
    "print(\"Modulus:\", a % b)\n",
    "print(\"Exponentiation:\", a ** b)\n"
   ]
  },
  {
   "cell_type": "code",
   "execution_count": 8,
   "id": "5f899118-4256-49d7-acb4-d290b87a2b44",
   "metadata": {},
   "outputs": [
    {
     "name": "stdout",
     "output_type": "stream",
     "text": [
      "Do daily   Coding\n",
      "DoDoDo\n",
      "DO\n",
      "do\n",
      "Coding\n",
      "Done\n"
     ]
    }
   ],
   "source": [
    "#String Manipulation - strings can be manipulated using various methods and operators\n",
    "str1 = \"Do\"\n",
    "str2 = \"  Coding\"\n",
    "print(str1 + \" daily \" + str2)\n",
    "print(str1 * 3)\n",
    "print(str1.upper())\n",
    "print(str1.lower())\n",
    "print(str2.lstrip())\n",
    "print(str1.replace(\"o\",\"one\"))\n"
   ]
  },
  {
   "cell_type": "markdown",
   "id": "3c3f82c1-997c-4d05-854b-154da566f165",
   "metadata": {},
   "source": [
    "#more string manupulations\n",
    "\n",
    "#String Methods:\n",
    "Split: Splits the string into a list of substrings based on a specified delimiter.\n",
    "Join: Joins elements of a list into a single string, with a specified separator between elements.\n",
    "Find: Returns the lowest index of the substring if it is found in the string. Returns -1 if not found.\n",
    "Count: Returns the number of non-overlapping occurrences of a substring in the string.\n",
    "\n",
    "\n",
    "#String Operators:\n",
    "Concatenation: Joins two or more strings end-to-end.\n",
    "Repetition: Repeats the string a specified number of times.\n",
    "Indexing: Accesses a character at a specified index in the string.\n",
    "Slicing: Extracts a substring from the string using a range of indices.\n",
    "\n",
    "#String Formatting: \n",
    "Using f-strings (Python 3.6+): Embeds expressions inside string literals, using curly braces {}.\n",
    "Using format method: Inserts values into placeholders defined by curly braces {} in the string.\n",
    "Using % operator: Performs string formatting by embedding values in a string using % followed by a format specifier."
   ]
  },
  {
   "cell_type": "code",
   "execution_count": 10,
   "id": "67ee2518-f70c-42e6-a96e-3e7305728a37",
   "metadata": {},
   "outputs": [
    {
     "name": "stdout",
     "output_type": "stream",
     "text": [
      "[1, 2, 3, 4, 5]\n",
      "Length: 5\n",
      "Indexing: 3\n",
      "Slicing: [2, 3, 4]\n"
     ]
    }
   ],
   "source": [
    "#List -  ordered collections of items, which can be of different types. They are mutable, meaning their elements can be changed after creation.\n",
    "my_list = [1, 2, 3, 4, 5]\n",
    "print(my_list)\n",
    "print(\"Length:\", len(my_list))\n",
    "print(\"Indexing:\", my_list[2])\n",
    "print(\"Slicing:\", my_list[1:4])"
   ]
  },
  {
   "cell_type": "code",
   "execution_count": 12,
   "id": "bed0bac5-85e1-47da-b16d-218e19736de8",
   "metadata": {},
   "outputs": [
    {
     "name": "stdout",
     "output_type": "stream",
     "text": [
      "(1, 2, 3, 4, 5)\n",
      "Length: 5\n",
      "Indexing: 3\n",
      "Slicing: (2, 3, 4)\n"
     ]
    }
   ],
   "source": [
    "#Tuple - similar to lists but are immutable, meaning their elements cannot be changed after creation. They are often used to store collections of heterogeneous data. \n",
    "my_tuple = (1, 2, 3, 4, 5)\n",
    "print(my_tuple)\n",
    "print(\"Length:\", len(my_tuple))\n",
    "print(\"Indexing:\", my_tuple[2])\n",
    "print(\"Slicing:\", my_tuple[1:4])"
   ]
  },
  {
   "cell_type": "code",
   "execution_count": 13,
   "id": "f5057a81-2cc0-4a2e-89bc-000010b658fa",
   "metadata": {},
   "outputs": [
    {
     "name": "stdout",
     "output_type": "stream",
     "text": [
      "{'name': 'Shrishti', 'age': 25, 'city': 'Mumbai'}\n",
      "Keys: dict_keys(['name', 'age', 'city'])\n",
      "Values: dict_values(['Shrishti', 25, 'Mumbai'])\n",
      "Accessing value by key: Shrishti\n"
     ]
    }
   ],
   "source": [
    "#Dictionaries - collections of key-value pairs, where each key is associated with a value. They are unordered and mutable. Dictionaries are useful for mapping one piece of data (the key) to another (the value), and operations include accessing values by key, adding new key-value pairs, and iterating over keys or values.\n",
    "my_dict = {\"name\": \"Shrishti\", \"age\": 25, \"city\": \"Mumbai\"}\n",
    "print(my_dict)\n",
    "print(\"Keys:\", my_dict.keys())\n",
    "print(\"Values:\", my_dict.values())\n",
    "print(\"Accessing value by key:\", my_dict[\"name\"])"
   ]
  },
  {
   "cell_type": "code",
   "execution_count": 20,
   "id": "fc19758c-30a2-4e5f-ad8b-02f54c184211",
   "metadata": {},
   "outputs": [
    {
     "name": "stdout",
     "output_type": "stream",
     "text": [
      "x and y: 2\n",
      "x or y: 1\n",
      "not x: False\n"
     ]
    }
   ],
   "source": [
    "#Boolean- two truth values: True and False. Boolean operations such as and, or, and not are used to combine or negate boolean values. \n",
    "#Boolean variables are commonly used in conditional statements and loops to control the flow of a program.\n",
    "x = 1\n",
    "y = 2\n",
    "print(\"x and y:\", x and y)\n",
    "print(\"x or y:\", x or y)\n",
    "print(\"not x:\", not x)\n",
    "\n",
    "#The and operator returns True if both operands are true. If either operand is false, it returns False.\n",
    "#The or operator returns True if at least one of the operands is true. If both operands are false, it returns False.\n",
    "#The not operator negates the boolean value of its operand. If the operand is True, it returns False, and vice versa."
   ]
  },
  {
   "cell_type": "code",
   "execution_count": 15,
   "id": "c70afeff-0c0d-41f7-bd11-99c949401d8e",
   "metadata": {},
   "outputs": [
    {
     "name": "stdout",
     "output_type": "stream",
     "text": [
      "a > b: True\n",
      "a < b: False\n",
      "a == b: False\n",
      "a != b: True\n"
     ]
    }
   ],
   "source": [
    "#Comparison- to compare values and return a boolean result \n",
    "a = 5\n",
    "b = 3\n",
    "print(\"a > b:\", a > b)\n",
    "print(\"a < b:\", a < b)\n",
    "print(\"a == b:\", a == b)\n",
    "print(\"a != b:\", a != b)"
   ]
  },
  {
   "cell_type": "markdown",
   "id": "7d67621c-beae-468a-a2e4-536daeda4a75",
   "metadata": {},
   "source": [
    "#done for today!"
   ]
  },
  {
   "cell_type": "code",
   "execution_count": null,
   "id": "20ec5827-5604-4182-ad29-b5b86e3703d2",
   "metadata": {},
   "outputs": [],
   "source": []
  }
 ],
 "metadata": {
  "kernelspec": {
   "display_name": "Python 3 (ipykernel)",
   "language": "python",
   "name": "python3"
  },
  "language_info": {
   "codemirror_mode": {
    "name": "ipython",
    "version": 3
   },
   "file_extension": ".py",
   "mimetype": "text/x-python",
   "name": "python",
   "nbconvert_exporter": "python",
   "pygments_lexer": "ipython3",
   "version": "3.11.7"
  }
 },
 "nbformat": 4,
 "nbformat_minor": 5
}
