{
 "cells": [
  {
   "cell_type": "markdown",
   "id": "e291d78b-f61a-4298-ac2d-7e8e5220b5d6",
   "metadata": {},
   "source": [
    "#Day-2"
   ]
  },
  {
   "cell_type": "markdown",
   "id": "632d892f-166c-493d-8fb6-4ccaf39ac07a",
   "metadata": {},
   "source": [
    "#Ten practice codes to help understand and practice looping in Python"
   ]
  },
  {
   "cell_type": "code",
   "execution_count": 8,
   "id": "cfdaaefe-0be1-4507-9cbf-33ed5cb7f267",
   "metadata": {},
   "outputs": [
    {
     "name": "stdout",
     "output_type": "stream",
     "text": [
      "0\n",
      "1\n",
      "2\n",
      "3\n",
      "4\n"
     ]
    }
   ],
   "source": [
    "#Basic for Loop\n",
    "for i in range(5):\n",
    "    print(i)"
   ]
  },
  {
   "cell_type": "code",
   "execution_count": 9,
   "id": "54013971-c9c7-4092-a6c2-3c849a2d49e5",
   "metadata": {},
   "outputs": [
    {
     "name": "stdout",
     "output_type": "stream",
     "text": [
      "apple\n",
      "banana\n",
      "cherry\n",
      "mango\n"
     ]
    }
   ],
   "source": [
    "#Loop Through a List\n",
    "fruits = [\"apple\", \"banana\", \"cherry\", \"mango\"]\n",
    "for fruit in fruits:\n",
    "    print(fruit)"
   ]
  },
  {
   "cell_type": "code",
   "execution_count": 10,
   "id": "2d6f944e-1ce1-46d4-82b7-f9a8d2150c90",
   "metadata": {},
   "outputs": [
    {
     "name": "stdout",
     "output_type": "stream",
     "text": [
      "M\n",
      "o\n",
      "b\n",
      "i\n",
      "l\n",
      "e\n",
      " \n",
      "P\n",
      "h\n",
      "o\n",
      "n\n",
      "e\n"
     ]
    }
   ],
   "source": [
    "#Loop Through a String\n",
    "for char in \"Mobile Phone\":\n",
    "    print(char)"
   ]
  },
  {
   "cell_type": "code",
   "execution_count": 11,
   "id": "61446346-c184-4683-98de-01c0b5ba069f",
   "metadata": {},
   "outputs": [
    {
     "name": "stdout",
     "output_type": "stream",
     "text": [
      "0\n",
      "1\n",
      "2\n",
      "3\n",
      "4\n"
     ]
    }
   ],
   "source": [
    "#Loop with break - Break out of the loop when a condition is met\n",
    "for i in range(10):\n",
    "    if i == 5:\n",
    "        break\n",
    "    print(i)\n"
   ]
  },
  {
   "cell_type": "code",
   "execution_count": 12,
   "id": "56fe99de-b79b-44da-82f1-786a6f59d3ba",
   "metadata": {},
   "outputs": [
    {
     "name": "stdout",
     "output_type": "stream",
     "text": [
      "0\n",
      "1\n",
      "2\n",
      "3\n",
      "4\n",
      "6\n",
      "7\n",
      "8\n",
      "9\n"
     ]
    }
   ],
   "source": [
    "#Loop with continue - Skip the current iteration when a condition is met\n",
    "for i in range(10):\n",
    "    if i == 5:\n",
    "        continue\n",
    "    print(i)"
   ]
  },
  {
   "cell_type": "code",
   "execution_count": 13,
   "id": "3a8f76c3-5cbb-444c-a705-29cd3d735b85",
   "metadata": {},
   "outputs": [
    {
     "name": "stdout",
     "output_type": "stream",
     "text": [
      "i=0, j=0\n",
      "i=0, j=1\n",
      "i=0, j=2\n",
      "i=1, j=0\n",
      "i=1, j=1\n",
      "i=1, j=2\n",
      "i=2, j=0\n",
      "i=2, j=1\n",
      "i=2, j=2\n"
     ]
    }
   ],
   "source": [
    "#Nested Loops\n",
    "for i in range(3):\n",
    "    for j in range(3):\n",
    "        print(f\"i={i}, j={j}\")\n"
   ]
  },
  {
   "cell_type": "code",
   "execution_count": 14,
   "id": "7d7ff648-cb8d-4781-acec-41c0c687eb8c",
   "metadata": {},
   "outputs": [
    {
     "name": "stdout",
     "output_type": "stream",
     "text": [
      "name: Shrishti\n",
      "age: 25\n",
      "city: Gurgoan\n"
     ]
    }
   ],
   "source": [
    "#Loop Through a Dictionary\n",
    "person = {\"name\": \"Shrishti\", \"age\": 25, \"city\": \"Gurgoan\"}\n",
    "for key, value in person.items():\n",
    "    print(f\"{key}: {value}\")\n"
   ]
  },
  {
   "cell_type": "code",
   "execution_count": 16,
   "id": "1327b540-292e-4efa-ac2d-2e4ed43f07e3",
   "metadata": {},
   "outputs": [
    {
     "name": "stdout",
     "output_type": "stream",
     "text": [
      "0\n",
      "1\n",
      "2\n",
      "3\n",
      "4\n"
     ]
    }
   ],
   "source": [
    "#Loop with while - Loop while a condition is true\n",
    "i = 0\n",
    "while i < 5:\n",
    "    print(i)\n",
    "    i += 1"
   ]
  },
  {
   "cell_type": "code",
   "execution_count": 17,
   "id": "0ae5acb7-e2c2-4580-b6a7-c0b01c9b7735",
   "metadata": {},
   "outputs": [
    {
     "name": "stdout",
     "output_type": "stream",
     "text": [
      "0: apple\n",
      "1: banana\n",
      "2: cherry\n",
      "3: mango\n"
     ]
    }
   ],
   "source": [
    "#Enumerate in a Loop\n",
    "fruits = [\"apple\", \"banana\", \"cherry\",\"mango\"]\n",
    "for index, fruit in enumerate(fruits):\n",
    "    print(f\"{index}: {fruit}\")"
   ]
  },
  {
   "cell_type": "code",
   "execution_count": 18,
   "id": "28d4498b-ba1d-4984-8e6b-2a8f051093d6",
   "metadata": {},
   "outputs": [
    {
     "name": "stdout",
     "output_type": "stream",
     "text": [
      "[0, 1, 4, 9, 16, 25, 36, 49, 64, 81]\n"
     ]
    }
   ],
   "source": [
    "#List Comprehension with Loop:\n",
    "squares = [x**2 for x in range(10)]\n",
    "print(squares)"
   ]
  },
  {
   "cell_type": "markdown",
   "id": "75c382c1-84ad-4d47-a58d-608e2b39c497",
   "metadata": {},
   "source": [
    "#good work today!!"
   ]
  }
 ],
 "metadata": {
  "kernelspec": {
   "display_name": "Python 3 (ipykernel)",
   "language": "python",
   "name": "python3"
  },
  "language_info": {
   "codemirror_mode": {
    "name": "ipython",
    "version": 3
   },
   "file_extension": ".py",
   "mimetype": "text/x-python",
   "name": "python",
   "nbconvert_exporter": "python",
   "pygments_lexer": "ipython3",
   "version": "3.11.7"
  }
 },
 "nbformat": 4,
 "nbformat_minor": 5
}
